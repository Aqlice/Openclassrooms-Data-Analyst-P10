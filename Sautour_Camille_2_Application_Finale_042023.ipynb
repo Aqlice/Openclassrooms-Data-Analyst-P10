{
 "cells": [
  {
   "cell_type": "code",
   "execution_count": 5,
   "metadata": {},
   "outputs": [
    {
     "name": "stdout",
     "output_type": "stream",
     "text": [
      "<class 'pandas.core.frame.DataFrame'>\n",
      "RangeIndex: 5 entries, 0 to 4\n",
      "Data columns (total 7 columns):\n",
      " #   Column        Non-Null Count  Dtype  \n",
      "---  ------        --------------  -----  \n",
      " 0   diagonal      5 non-null      float64\n",
      " 1   height_left   5 non-null      float64\n",
      " 2   height_right  5 non-null      float64\n",
      " 3   margin_low    5 non-null      float64\n",
      " 4   margin_up     5 non-null      float64\n",
      " 5   length        5 non-null      float64\n",
      " 6   id            5 non-null      object \n",
      "dtypes: float64(6), object(1)\n",
      "memory usage: 408.0+ bytes\n",
      "Optimization terminated successfully.\n",
      "         Current function value: 0.029058\n",
      "         Iterations 12\n",
      "\n",
      "Indentification des billets:\n",
      "\n",
      "Le billet B_1 est vrai avec 0.9991245540879145 de probabilitée\n",
      "Le billet B_2 est faux avec 0.00033411083321462965 de probabilitée\n",
      "Le billet B_3 est vrai avec 0.999960571722646 de probabilitée\n",
      "Le billet B_4 est faux avec 1.9799055948185074e-07 de probabilitée\n",
      "Le billet B_5 est faux avec 0.002221972688042908 de probabilitée\n"
     ]
    },
    {
     "name": "stderr",
     "output_type": "stream",
     "text": [
      "/Users/aqlice/goinfre/miniconda3/lib/python3.9/site-packages/seaborn/_decorators.py:36: FutureWarning: Pass the following variables as keyword args: x, y. From version 0.12, the only valid positional argument will be `data`, and passing other arguments without an explicit keyword will result in an error or misinterpretation.\n",
      "  warnings.warn(\n"
     ]
    },
    {
     "data": {
      "text/plain": [
       "Text(0.5, 1.0, 'Representation des billets')"
      ]
     },
     "execution_count": 5,
     "metadata": {},
     "output_type": "execute_result"
    },
    {
     "data": {
      "image/png": "[encoded data removed]",
      "text/plain": [
       "<Figure size 432x288 with 1 Axes>"
      ]
     },
     "metadata": {
      "needs_background": "light"
     },
     "output_type": "display_data"
    }
   ],
   "source": [
    "import pandas as pd\n",
    "import seaborn as sns\n",
    "import matplotlib.pyplot as plt\n",
    "import statsmodels.api as sm\n",
    "from statsmodels.api import Logit\n",
    "\n",
    "## Importation des donnees:\n",
    "Billet_df = pd.read_csv(\"billet_complet.csv\")                   #Training set\n",
    "Billet_test_df = pd.read_csv(\"billets_test_camille.csv\")                 #Testing set    \n",
    "\n",
    "Billet_test_df.info()                                                                   \n",
    "\n",
    "\n",
    "## Entrainement du modele:\n",
    "# y (authenticite): \n",
    "y_billet = Billet_df.loc[:, Billet_df.columns == \"is_genuine\"]\n",
    "    #display(y_billet)\n",
    "\n",
    "#Training\n",
    "# On ne garde que les variables significatives a alpha = 5% dans X_Billet:\n",
    "X_billet = Billet_df[[\"height_right\",\"margin_low\", \"margin_up\", \"length\"]]\n",
    "X_billet = sm.add_constant(X_billet)\n",
    "\n",
    "# Regression logistique:\n",
    "reg_log = Logit(endog=y_billet,exog=X_billet)\n",
    "\n",
    "# Creation du modele:\n",
    "model_reg_log = reg_log.fit()\n",
    "\n",
    "\n",
    "## Prediction sur des donnes inconnues:\n",
    "# Calculs:\n",
    "X_test = Billet_test_df[[\"height_right\",\"margin_low\",\"margin_up\",\"length\"]]\n",
    "X_test = sm.add_constant(X_test)\n",
    "Billet_test_df[\"proba\"] = model_reg_log.predict(X_test)\n",
    "Billet_test_df[\"pred\"] = (model_reg_log.predict(X_test) >= 0.5).astype(int)\n",
    "\n",
    "# Affichage des resultats:\n",
    "print(\"\\nIndentification des billets:\\n\")\n",
    "for i, k, j in zip(Billet_test_df[\"pred\"],Billet_test_df[\"id\"],Billet_test_df[\"proba\"]):\n",
    "    if i == 1:\n",
    "        print(\"Le billet\",\"{}\".format(k),\"est vrai\" ,\"avec\",\"{}\".format(j),\"de probabilitée\")\n",
    "    else:\n",
    "        print(\"Le billet\",\"{}\".format(k),\"est faux\",\"avec\",\"{}\".format(j),\"de probabilitée\")\n",
    "\n",
    "\n",
    "# Affichage des résultats : scatterplot\n",
    "\n",
    "couleur = [\"#ed0000\",\"#008000\"]\n",
    "sns.scatterplot(Billet_test_df['length'], \n",
    "                Billet_test_df['margin_low'], \n",
    "                hue=Billet_test_df['pred'], \n",
    "              legend='auto',palette=couleur)\n",
    "\n",
    "# affichage de l'id des billets sur le graphique\n",
    "for i in range(Billet_test_df.shape[0]):\n",
    "    plt.text(x=Billet_test_df.length[i],y=Billet_test_df.margin_low[i], s=Billet_test_df.id[i], \n",
    "          fontdict=dict(color='black',size=10))\n",
    "\n",
    "plt.grid()\n",
    "plt.title(\"Representation des billets\")\n"
   ]
  }
 ],
 "metadata": {
  "language_info": {
   "name": "python"
  },
  "orig_nbformat": 4
 },
 "nbformat": 4,
 "nbformat_minor": 2
}
